{
 "cells": [
  {
   "cell_type": "markdown",
   "id": "e5ac5cae",
   "metadata": {},
   "source": [
    "# Covid-19-Random-Forest"
   ]
  },
  {
   "cell_type": "markdown",
   "id": "b1b52564",
   "metadata": {},
   "source": [
    "**Importing Relevant Libraries**"
   ]
  },
  {
   "cell_type": "code",
   "execution_count": 1,
   "id": "5f048726",
   "metadata": {},
   "outputs": [],
   "source": [
    "import pandas as pd\n",
    "import numpy as np\n",
    "import matplotlib.pyplot as plt\n",
    "import datetime as dt\n",
    "import seaborn as sns\n",
    "sns.set()"
   ]
  },
  {
   "cell_type": "code",
   "execution_count": 2,
   "id": "8ac6ec55",
   "metadata": {},
   "outputs": [],
   "source": [
    "import warnings\n",
    "warnings.filterwarnings(\"ignore\")"
   ]
  },
  {
   "cell_type": "markdown",
   "id": "64c9c8bf",
   "metadata": {},
   "source": [
    "**Loading Dataset**"
   ]
  },
  {
   "cell_type": "code",
   "execution_count": 3,
   "id": "2b24bebb",
   "metadata": {},
   "outputs": [],
   "source": [
    "df = pd.read_csv('covid_19_india.csv', parse_dates=['Date'],dayfirst=True)"
   ]
  },
  {
   "cell_type": "code",
   "execution_count": 4,
   "id": "3ed39f6e",
   "metadata": {},
   "outputs": [
    {
     "data": {
      "text/html": [
       "<div>\n",
       "<style scoped>\n",
       "    .dataframe tbody tr th:only-of-type {\n",
       "        vertical-align: middle;\n",
       "    }\n",
       "\n",
       "    .dataframe tbody tr th {\n",
       "        vertical-align: top;\n",
       "    }\n",
       "\n",
       "    .dataframe thead th {\n",
       "        text-align: right;\n",
       "    }\n",
       "</style>\n",
       "<table border=\"1\" class=\"dataframe\">\n",
       "  <thead>\n",
       "    <tr style=\"text-align: right;\">\n",
       "      <th></th>\n",
       "      <th>Sno</th>\n",
       "      <th>Date</th>\n",
       "      <th>Time</th>\n",
       "      <th>State/UnionTerritory</th>\n",
       "      <th>ConfirmedIndianNational</th>\n",
       "      <th>ConfirmedForeignNational</th>\n",
       "      <th>Cured</th>\n",
       "      <th>Deaths</th>\n",
       "      <th>Confirmed</th>\n",
       "    </tr>\n",
       "  </thead>\n",
       "  <tbody>\n",
       "    <tr>\n",
       "      <th>0</th>\n",
       "      <td>1</td>\n",
       "      <td>2020-01-30</td>\n",
       "      <td>6:00 PM</td>\n",
       "      <td>Kerala</td>\n",
       "      <td>1</td>\n",
       "      <td>0</td>\n",
       "      <td>0</td>\n",
       "      <td>0</td>\n",
       "      <td>1</td>\n",
       "    </tr>\n",
       "    <tr>\n",
       "      <th>1</th>\n",
       "      <td>2</td>\n",
       "      <td>2020-01-31</td>\n",
       "      <td>6:00 PM</td>\n",
       "      <td>Kerala</td>\n",
       "      <td>1</td>\n",
       "      <td>0</td>\n",
       "      <td>0</td>\n",
       "      <td>0</td>\n",
       "      <td>1</td>\n",
       "    </tr>\n",
       "    <tr>\n",
       "      <th>2</th>\n",
       "      <td>3</td>\n",
       "      <td>2020-02-01</td>\n",
       "      <td>6:00 PM</td>\n",
       "      <td>Kerala</td>\n",
       "      <td>2</td>\n",
       "      <td>0</td>\n",
       "      <td>0</td>\n",
       "      <td>0</td>\n",
       "      <td>2</td>\n",
       "    </tr>\n",
       "    <tr>\n",
       "      <th>3</th>\n",
       "      <td>4</td>\n",
       "      <td>2020-02-02</td>\n",
       "      <td>6:00 PM</td>\n",
       "      <td>Kerala</td>\n",
       "      <td>3</td>\n",
       "      <td>0</td>\n",
       "      <td>0</td>\n",
       "      <td>0</td>\n",
       "      <td>3</td>\n",
       "    </tr>\n",
       "    <tr>\n",
       "      <th>4</th>\n",
       "      <td>5</td>\n",
       "      <td>2020-02-03</td>\n",
       "      <td>6:00 PM</td>\n",
       "      <td>Kerala</td>\n",
       "      <td>3</td>\n",
       "      <td>0</td>\n",
       "      <td>0</td>\n",
       "      <td>0</td>\n",
       "      <td>3</td>\n",
       "    </tr>\n",
       "  </tbody>\n",
       "</table>\n",
       "</div>"
      ],
      "text/plain": [
       "   Sno       Date     Time State/UnionTerritory ConfirmedIndianNational  \\\n",
       "0    1 2020-01-30  6:00 PM               Kerala                       1   \n",
       "1    2 2020-01-31  6:00 PM               Kerala                       1   \n",
       "2    3 2020-02-01  6:00 PM               Kerala                       2   \n",
       "3    4 2020-02-02  6:00 PM               Kerala                       3   \n",
       "4    5 2020-02-03  6:00 PM               Kerala                       3   \n",
       "\n",
       "  ConfirmedForeignNational  Cured  Deaths  Confirmed  \n",
       "0                        0      0       0          1  \n",
       "1                        0      0       0          1  \n",
       "2                        0      0       0          2  \n",
       "3                        0      0       0          3  \n",
       "4                        0      0       0          3  "
      ]
     },
     "execution_count": 4,
     "metadata": {},
     "output_type": "execute_result"
    }
   ],
   "source": [
    "df.head()"
   ]
  },
  {
   "cell_type": "markdown",
   "id": "c03d4f42",
   "metadata": {},
   "source": [
    "**Extracting required columns from dataframe**"
   ]
  },
  {
   "cell_type": "code",
   "execution_count": 5,
   "id": "6ae6d484",
   "metadata": {},
   "outputs": [],
   "source": [
    "df = df[['Date','State/UnionTerritory','Cured','Deaths','Confirmed']]"
   ]
  },
  {
   "cell_type": "code",
   "execution_count": 6,
   "id": "b203e827",
   "metadata": {},
   "outputs": [
    {
     "data": {
      "text/html": [
       "<div>\n",
       "<style scoped>\n",
       "    .dataframe tbody tr th:only-of-type {\n",
       "        vertical-align: middle;\n",
       "    }\n",
       "\n",
       "    .dataframe tbody tr th {\n",
       "        vertical-align: top;\n",
       "    }\n",
       "\n",
       "    .dataframe thead th {\n",
       "        text-align: right;\n",
       "    }\n",
       "</style>\n",
       "<table border=\"1\" class=\"dataframe\">\n",
       "  <thead>\n",
       "    <tr style=\"text-align: right;\">\n",
       "      <th></th>\n",
       "      <th>Date</th>\n",
       "      <th>State/UnionTerritory</th>\n",
       "      <th>Cured</th>\n",
       "      <th>Deaths</th>\n",
       "      <th>Confirmed</th>\n",
       "    </tr>\n",
       "  </thead>\n",
       "  <tbody>\n",
       "    <tr>\n",
       "      <th>0</th>\n",
       "      <td>2020-01-30</td>\n",
       "      <td>Kerala</td>\n",
       "      <td>0</td>\n",
       "      <td>0</td>\n",
       "      <td>1</td>\n",
       "    </tr>\n",
       "    <tr>\n",
       "      <th>1</th>\n",
       "      <td>2020-01-31</td>\n",
       "      <td>Kerala</td>\n",
       "      <td>0</td>\n",
       "      <td>0</td>\n",
       "      <td>1</td>\n",
       "    </tr>\n",
       "    <tr>\n",
       "      <th>2</th>\n",
       "      <td>2020-02-01</td>\n",
       "      <td>Kerala</td>\n",
       "      <td>0</td>\n",
       "      <td>0</td>\n",
       "      <td>2</td>\n",
       "    </tr>\n",
       "    <tr>\n",
       "      <th>3</th>\n",
       "      <td>2020-02-02</td>\n",
       "      <td>Kerala</td>\n",
       "      <td>0</td>\n",
       "      <td>0</td>\n",
       "      <td>3</td>\n",
       "    </tr>\n",
       "    <tr>\n",
       "      <th>4</th>\n",
       "      <td>2020-02-03</td>\n",
       "      <td>Kerala</td>\n",
       "      <td>0</td>\n",
       "      <td>0</td>\n",
       "      <td>3</td>\n",
       "    </tr>\n",
       "  </tbody>\n",
       "</table>\n",
       "</div>"
      ],
      "text/plain": [
       "        Date State/UnionTerritory  Cured  Deaths  Confirmed\n",
       "0 2020-01-30               Kerala      0       0          1\n",
       "1 2020-01-31               Kerala      0       0          1\n",
       "2 2020-02-01               Kerala      0       0          2\n",
       "3 2020-02-02               Kerala      0       0          3\n",
       "4 2020-02-03               Kerala      0       0          3"
      ]
     },
     "execution_count": 6,
     "metadata": {},
     "output_type": "execute_result"
    }
   ],
   "source": [
    "df.head()"
   ]
  },
  {
   "cell_type": "code",
   "execution_count": 7,
   "id": "172caefe",
   "metadata": {},
   "outputs": [],
   "source": [
    "df.columns = ['Date','State','Cured','Deaths','Confirmed']"
   ]
  },
  {
   "cell_type": "markdown",
   "id": "49165c7f",
   "metadata": {},
   "source": [
    "**Reviewing Dataset**"
   ]
  },
  {
   "cell_type": "code",
   "execution_count": 8,
   "id": "5754aa20",
   "metadata": {},
   "outputs": [
    {
     "data": {
      "text/html": [
       "<div>\n",
       "<style scoped>\n",
       "    .dataframe tbody tr th:only-of-type {\n",
       "        vertical-align: middle;\n",
       "    }\n",
       "\n",
       "    .dataframe tbody tr th {\n",
       "        vertical-align: top;\n",
       "    }\n",
       "\n",
       "    .dataframe thead th {\n",
       "        text-align: right;\n",
       "    }\n",
       "</style>\n",
       "<table border=\"1\" class=\"dataframe\">\n",
       "  <thead>\n",
       "    <tr style=\"text-align: right;\">\n",
       "      <th></th>\n",
       "      <th>Date</th>\n",
       "      <th>State</th>\n",
       "      <th>Cured</th>\n",
       "      <th>Deaths</th>\n",
       "      <th>Confirmed</th>\n",
       "    </tr>\n",
       "  </thead>\n",
       "  <tbody>\n",
       "    <tr>\n",
       "      <th>0</th>\n",
       "      <td>2020-01-30</td>\n",
       "      <td>Kerala</td>\n",
       "      <td>0</td>\n",
       "      <td>0</td>\n",
       "      <td>1</td>\n",
       "    </tr>\n",
       "    <tr>\n",
       "      <th>1</th>\n",
       "      <td>2020-01-31</td>\n",
       "      <td>Kerala</td>\n",
       "      <td>0</td>\n",
       "      <td>0</td>\n",
       "      <td>1</td>\n",
       "    </tr>\n",
       "    <tr>\n",
       "      <th>2</th>\n",
       "      <td>2020-02-01</td>\n",
       "      <td>Kerala</td>\n",
       "      <td>0</td>\n",
       "      <td>0</td>\n",
       "      <td>2</td>\n",
       "    </tr>\n",
       "    <tr>\n",
       "      <th>3</th>\n",
       "      <td>2020-02-02</td>\n",
       "      <td>Kerala</td>\n",
       "      <td>0</td>\n",
       "      <td>0</td>\n",
       "      <td>3</td>\n",
       "    </tr>\n",
       "    <tr>\n",
       "      <th>4</th>\n",
       "      <td>2020-02-03</td>\n",
       "      <td>Kerala</td>\n",
       "      <td>0</td>\n",
       "      <td>0</td>\n",
       "      <td>3</td>\n",
       "    </tr>\n",
       "  </tbody>\n",
       "</table>\n",
       "</div>"
      ],
      "text/plain": [
       "        Date   State  Cured  Deaths  Confirmed\n",
       "0 2020-01-30  Kerala      0       0          1\n",
       "1 2020-01-31  Kerala      0       0          1\n",
       "2 2020-02-01  Kerala      0       0          2\n",
       "3 2020-02-02  Kerala      0       0          3\n",
       "4 2020-02-03  Kerala      0       0          3"
      ]
     },
     "execution_count": 8,
     "metadata": {},
     "output_type": "execute_result"
    }
   ],
   "source": [
    "df.head()"
   ]
  },
  {
   "cell_type": "code",
   "execution_count": 9,
   "id": "93147bda",
   "metadata": {
    "scrolled": true
   },
   "outputs": [
    {
     "data": {
      "text/html": [
       "<div>\n",
       "<style scoped>\n",
       "    .dataframe tbody tr th:only-of-type {\n",
       "        vertical-align: middle;\n",
       "    }\n",
       "\n",
       "    .dataframe tbody tr th {\n",
       "        vertical-align: top;\n",
       "    }\n",
       "\n",
       "    .dataframe thead th {\n",
       "        text-align: right;\n",
       "    }\n",
       "</style>\n",
       "<table border=\"1\" class=\"dataframe\">\n",
       "  <thead>\n",
       "    <tr style=\"text-align: right;\">\n",
       "      <th></th>\n",
       "      <th>Date</th>\n",
       "      <th>State</th>\n",
       "      <th>Cured</th>\n",
       "      <th>Deaths</th>\n",
       "      <th>Confirmed</th>\n",
       "    </tr>\n",
       "  </thead>\n",
       "  <tbody>\n",
       "    <tr>\n",
       "      <th>18105</th>\n",
       "      <td>2021-08-11</td>\n",
       "      <td>Telangana</td>\n",
       "      <td>638410</td>\n",
       "      <td>3831</td>\n",
       "      <td>650353</td>\n",
       "    </tr>\n",
       "    <tr>\n",
       "      <th>18106</th>\n",
       "      <td>2021-08-11</td>\n",
       "      <td>Tripura</td>\n",
       "      <td>77811</td>\n",
       "      <td>773</td>\n",
       "      <td>80660</td>\n",
       "    </tr>\n",
       "    <tr>\n",
       "      <th>18107</th>\n",
       "      <td>2021-08-11</td>\n",
       "      <td>Uttarakhand</td>\n",
       "      <td>334650</td>\n",
       "      <td>7368</td>\n",
       "      <td>342462</td>\n",
       "    </tr>\n",
       "    <tr>\n",
       "      <th>18108</th>\n",
       "      <td>2021-08-11</td>\n",
       "      <td>Uttar Pradesh</td>\n",
       "      <td>1685492</td>\n",
       "      <td>22775</td>\n",
       "      <td>1708812</td>\n",
       "    </tr>\n",
       "    <tr>\n",
       "      <th>18109</th>\n",
       "      <td>2021-08-11</td>\n",
       "      <td>West Bengal</td>\n",
       "      <td>1506532</td>\n",
       "      <td>18252</td>\n",
       "      <td>1534999</td>\n",
       "    </tr>\n",
       "  </tbody>\n",
       "</table>\n",
       "</div>"
      ],
      "text/plain": [
       "            Date          State    Cured  Deaths  Confirmed\n",
       "18105 2021-08-11      Telangana   638410    3831     650353\n",
       "18106 2021-08-11        Tripura    77811     773      80660\n",
       "18107 2021-08-11    Uttarakhand   334650    7368     342462\n",
       "18108 2021-08-11  Uttar Pradesh  1685492   22775    1708812\n",
       "18109 2021-08-11    West Bengal  1506532   18252    1534999"
      ]
     },
     "execution_count": 9,
     "metadata": {},
     "output_type": "execute_result"
    }
   ],
   "source": [
    "df.tail()"
   ]
  },
  {
   "cell_type": "code",
   "execution_count": 10,
   "id": "2da93c30",
   "metadata": {
    "scrolled": true
   },
   "outputs": [
    {
     "name": "stdout",
     "output_type": "stream",
     "text": [
      "<class 'pandas.core.frame.DataFrame'>\n",
      "RangeIndex: 18110 entries, 0 to 18109\n",
      "Data columns (total 5 columns):\n",
      " #   Column     Non-Null Count  Dtype         \n",
      "---  ------     --------------  -----         \n",
      " 0   Date       18110 non-null  datetime64[ns]\n",
      " 1   State      18110 non-null  object        \n",
      " 2   Cured      18110 non-null  int64         \n",
      " 3   Deaths     18110 non-null  int64         \n",
      " 4   Confirmed  18110 non-null  int64         \n",
      "dtypes: datetime64[ns](1), int64(3), object(1)\n",
      "memory usage: 707.5+ KB\n"
     ]
    }
   ],
   "source": [
    "df.info()"
   ]
  },
  {
   "cell_type": "code",
   "execution_count": 11,
   "id": "eef28f08",
   "metadata": {},
   "outputs": [
    {
     "data": {
      "text/plain": [
       "(18110, 5)"
      ]
     },
     "execution_count": 11,
     "metadata": {},
     "output_type": "execute_result"
    }
   ],
   "source": [
    "df.shape"
   ]
  },
  {
   "cell_type": "code",
   "execution_count": 12,
   "id": "0376c844",
   "metadata": {},
   "outputs": [
    {
     "data": {
      "text/html": [
       "<div>\n",
       "<style scoped>\n",
       "    .dataframe tbody tr th:only-of-type {\n",
       "        vertical-align: middle;\n",
       "    }\n",
       "\n",
       "    .dataframe tbody tr th {\n",
       "        vertical-align: top;\n",
       "    }\n",
       "\n",
       "    .dataframe thead th {\n",
       "        text-align: right;\n",
       "    }\n",
       "</style>\n",
       "<table border=\"1\" class=\"dataframe\">\n",
       "  <thead>\n",
       "    <tr style=\"text-align: right;\">\n",
       "      <th></th>\n",
       "      <th>Cured</th>\n",
       "      <th>Deaths</th>\n",
       "      <th>Confirmed</th>\n",
       "    </tr>\n",
       "  </thead>\n",
       "  <tbody>\n",
       "    <tr>\n",
       "      <th>count</th>\n",
       "      <td>1.811000e+04</td>\n",
       "      <td>18110.000000</td>\n",
       "      <td>1.811000e+04</td>\n",
       "    </tr>\n",
       "    <tr>\n",
       "      <th>mean</th>\n",
       "      <td>2.786375e+05</td>\n",
       "      <td>4052.402264</td>\n",
       "      <td>3.010314e+05</td>\n",
       "    </tr>\n",
       "    <tr>\n",
       "      <th>std</th>\n",
       "      <td>6.148909e+05</td>\n",
       "      <td>10919.076411</td>\n",
       "      <td>6.561489e+05</td>\n",
       "    </tr>\n",
       "    <tr>\n",
       "      <th>min</th>\n",
       "      <td>0.000000e+00</td>\n",
       "      <td>0.000000</td>\n",
       "      <td>0.000000e+00</td>\n",
       "    </tr>\n",
       "    <tr>\n",
       "      <th>25%</th>\n",
       "      <td>3.360250e+03</td>\n",
       "      <td>32.000000</td>\n",
       "      <td>4.376750e+03</td>\n",
       "    </tr>\n",
       "    <tr>\n",
       "      <th>50%</th>\n",
       "      <td>3.336400e+04</td>\n",
       "      <td>588.000000</td>\n",
       "      <td>3.977350e+04</td>\n",
       "    </tr>\n",
       "    <tr>\n",
       "      <th>75%</th>\n",
       "      <td>2.788698e+05</td>\n",
       "      <td>3643.750000</td>\n",
       "      <td>3.001498e+05</td>\n",
       "    </tr>\n",
       "    <tr>\n",
       "      <th>max</th>\n",
       "      <td>6.159676e+06</td>\n",
       "      <td>134201.000000</td>\n",
       "      <td>6.363442e+06</td>\n",
       "    </tr>\n",
       "  </tbody>\n",
       "</table>\n",
       "</div>"
      ],
      "text/plain": [
       "              Cured         Deaths     Confirmed\n",
       "count  1.811000e+04   18110.000000  1.811000e+04\n",
       "mean   2.786375e+05    4052.402264  3.010314e+05\n",
       "std    6.148909e+05   10919.076411  6.561489e+05\n",
       "min    0.000000e+00       0.000000  0.000000e+00\n",
       "25%    3.360250e+03      32.000000  4.376750e+03\n",
       "50%    3.336400e+04     588.000000  3.977350e+04\n",
       "75%    2.788698e+05    3643.750000  3.001498e+05\n",
       "max    6.159676e+06  134201.000000  6.363442e+06"
      ]
     },
     "execution_count": 12,
     "metadata": {},
     "output_type": "execute_result"
    }
   ],
   "source": [
    "df.describe()"
   ]
  },
  {
   "cell_type": "markdown",
   "id": "04f6f117",
   "metadata": {},
   "source": [
    "**Let's Check The Null Values**"
   ]
  },
  {
   "cell_type": "code",
   "execution_count": 13,
   "id": "b5e9e648",
   "metadata": {
    "scrolled": true
   },
   "outputs": [
    {
     "data": {
      "text/plain": [
       "Date         0\n",
       "State        0\n",
       "Cured        0\n",
       "Deaths       0\n",
       "Confirmed    0\n",
       "dtype: int64"
      ]
     },
     "execution_count": 13,
     "metadata": {},
     "output_type": "execute_result"
    }
   ],
   "source": [
    "df.isnull().sum()"
   ]
  },
  {
   "cell_type": "markdown",
   "id": "76384eac",
   "metadata": {},
   "source": [
    "We Don't have any Null Values in our Dataset."
   ]
  },
  {
   "cell_type": "markdown",
   "id": "3367626d",
   "metadata": {},
   "source": [
    "**Extracting 2020-07-17 date Data from dataframe**"
   ]
  },
  {
   "cell_type": "code",
   "execution_count": 14,
   "id": "e62f00bd",
   "metadata": {},
   "outputs": [],
   "source": [
    "today = df[df.Date == '2020-07-17']"
   ]
  },
  {
   "cell_type": "code",
   "execution_count": 15,
   "id": "eb99775a",
   "metadata": {
    "scrolled": true
   },
   "outputs": [
    {
     "data": {
      "text/html": [
       "<div>\n",
       "<style scoped>\n",
       "    .dataframe tbody tr th:only-of-type {\n",
       "        vertical-align: middle;\n",
       "    }\n",
       "\n",
       "    .dataframe tbody tr th {\n",
       "        vertical-align: top;\n",
       "    }\n",
       "\n",
       "    .dataframe thead th {\n",
       "        text-align: right;\n",
       "    }\n",
       "</style>\n",
       "<table border=\"1\" class=\"dataframe\">\n",
       "  <thead>\n",
       "    <tr style=\"text-align: right;\">\n",
       "      <th></th>\n",
       "      <th>Date</th>\n",
       "      <th>State</th>\n",
       "      <th>Cured</th>\n",
       "      <th>Deaths</th>\n",
       "      <th>Confirmed</th>\n",
       "    </tr>\n",
       "  </thead>\n",
       "  <tbody>\n",
       "    <tr>\n",
       "      <th>4179</th>\n",
       "      <td>2020-07-17</td>\n",
       "      <td>Andaman and Nicobar Islands</td>\n",
       "      <td>133</td>\n",
       "      <td>0</td>\n",
       "      <td>180</td>\n",
       "    </tr>\n",
       "    <tr>\n",
       "      <th>4180</th>\n",
       "      <td>2020-07-17</td>\n",
       "      <td>Andhra Pradesh</td>\n",
       "      <td>19393</td>\n",
       "      <td>492</td>\n",
       "      <td>38044</td>\n",
       "    </tr>\n",
       "    <tr>\n",
       "      <th>4181</th>\n",
       "      <td>2020-07-17</td>\n",
       "      <td>Arunachal Pradesh</td>\n",
       "      <td>153</td>\n",
       "      <td>3</td>\n",
       "      <td>543</td>\n",
       "    </tr>\n",
       "    <tr>\n",
       "      <th>4182</th>\n",
       "      <td>2020-07-17</td>\n",
       "      <td>Assam</td>\n",
       "      <td>12888</td>\n",
       "      <td>48</td>\n",
       "      <td>19754</td>\n",
       "    </tr>\n",
       "    <tr>\n",
       "      <th>4183</th>\n",
       "      <td>2020-07-17</td>\n",
       "      <td>Bihar</td>\n",
       "      <td>14018</td>\n",
       "      <td>197</td>\n",
       "      <td>21764</td>\n",
       "    </tr>\n",
       "  </tbody>\n",
       "</table>\n",
       "</div>"
      ],
      "text/plain": [
       "           Date                        State  Cured  Deaths  Confirmed\n",
       "4179 2020-07-17  Andaman and Nicobar Islands    133       0        180\n",
       "4180 2020-07-17               Andhra Pradesh  19393     492      38044\n",
       "4181 2020-07-17            Arunachal Pradesh    153       3        543\n",
       "4182 2020-07-17                        Assam  12888      48      19754\n",
       "4183 2020-07-17                        Bihar  14018     197      21764"
      ]
     },
     "execution_count": 15,
     "metadata": {},
     "output_type": "execute_result"
    }
   ],
   "source": [
    "today.head()"
   ]
  },
  {
   "cell_type": "markdown",
   "id": "18db9fd5",
   "metadata": {},
   "source": [
    "**Extracting maximum number of confirmed cases from today dataframe.**"
   ]
  },
  {
   "cell_type": "code",
   "execution_count": 16,
   "id": "d14647f1",
   "metadata": {},
   "outputs": [],
   "source": [
    "max_confirmed_cases = today.sort_values(by=['Confirmed'],ascending=False)"
   ]
  },
  {
   "cell_type": "code",
   "execution_count": 17,
   "id": "1f30235f",
   "metadata": {
    "scrolled": true
   },
   "outputs": [
    {
     "data": {
      "text/html": [
       "<div>\n",
       "<style scoped>\n",
       "    .dataframe tbody tr th:only-of-type {\n",
       "        vertical-align: middle;\n",
       "    }\n",
       "\n",
       "    .dataframe tbody tr th {\n",
       "        vertical-align: top;\n",
       "    }\n",
       "\n",
       "    .dataframe thead th {\n",
       "        text-align: right;\n",
       "    }\n",
       "</style>\n",
       "<table border=\"1\" class=\"dataframe\">\n",
       "  <thead>\n",
       "    <tr style=\"text-align: right;\">\n",
       "      <th></th>\n",
       "      <th>Date</th>\n",
       "      <th>State</th>\n",
       "      <th>Cured</th>\n",
       "      <th>Deaths</th>\n",
       "      <th>Confirmed</th>\n",
       "    </tr>\n",
       "  </thead>\n",
       "  <tbody>\n",
       "    <tr>\n",
       "      <th>4198</th>\n",
       "      <td>2020-07-17</td>\n",
       "      <td>Maharashtra</td>\n",
       "      <td>158140</td>\n",
       "      <td>11194</td>\n",
       "      <td>284281</td>\n",
       "    </tr>\n",
       "    <tr>\n",
       "      <th>4208</th>\n",
       "      <td>2020-07-17</td>\n",
       "      <td>Tamil Nadu</td>\n",
       "      <td>107416</td>\n",
       "      <td>2236</td>\n",
       "      <td>156369</td>\n",
       "    </tr>\n",
       "    <tr>\n",
       "      <th>4187</th>\n",
       "      <td>2020-07-17</td>\n",
       "      <td>Delhi</td>\n",
       "      <td>97693</td>\n",
       "      <td>3545</td>\n",
       "      <td>118645</td>\n",
       "    </tr>\n",
       "    <tr>\n",
       "      <th>4194</th>\n",
       "      <td>2020-07-17</td>\n",
       "      <td>Karnataka</td>\n",
       "      <td>19729</td>\n",
       "      <td>1032</td>\n",
       "      <td>51422</td>\n",
       "    </tr>\n",
       "    <tr>\n",
       "      <th>4189</th>\n",
       "      <td>2020-07-17</td>\n",
       "      <td>Gujarat</td>\n",
       "      <td>32103</td>\n",
       "      <td>2089</td>\n",
       "      <td>45481</td>\n",
       "    </tr>\n",
       "  </tbody>\n",
       "</table>\n",
       "</div>"
      ],
      "text/plain": [
       "           Date        State   Cured  Deaths  Confirmed\n",
       "4198 2020-07-17  Maharashtra  158140   11194     284281\n",
       "4208 2020-07-17   Tamil Nadu  107416    2236     156369\n",
       "4187 2020-07-17        Delhi   97693    3545     118645\n",
       "4194 2020-07-17    Karnataka   19729    1032      51422\n",
       "4189 2020-07-17      Gujarat   32103    2089      45481"
      ]
     },
     "execution_count": 17,
     "metadata": {},
     "output_type": "execute_result"
    }
   ],
   "source": [
    "max_confirmed_cases.head()"
   ]
  },
  {
   "cell_type": "markdown",
   "id": "6b8633d1",
   "metadata": {},
   "source": [
    "**Extracting top 5 rows from max_confirmed_cases dataframe.**"
   ]
  },
  {
   "cell_type": "code",
   "execution_count": 18,
   "id": "419ebf8b",
   "metadata": {},
   "outputs": [],
   "source": [
    "top_states_confirmed = max_confirmed_cases[0:5]"
   ]
  },
  {
   "cell_type": "code",
   "execution_count": 19,
   "id": "169f8675",
   "metadata": {
    "scrolled": true
   },
   "outputs": [
    {
     "data": {
      "text/html": [
       "<div>\n",
       "<style scoped>\n",
       "    .dataframe tbody tr th:only-of-type {\n",
       "        vertical-align: middle;\n",
       "    }\n",
       "\n",
       "    .dataframe tbody tr th {\n",
       "        vertical-align: top;\n",
       "    }\n",
       "\n",
       "    .dataframe thead th {\n",
       "        text-align: right;\n",
       "    }\n",
       "</style>\n",
       "<table border=\"1\" class=\"dataframe\">\n",
       "  <thead>\n",
       "    <tr style=\"text-align: right;\">\n",
       "      <th></th>\n",
       "      <th>Date</th>\n",
       "      <th>State</th>\n",
       "      <th>Cured</th>\n",
       "      <th>Deaths</th>\n",
       "      <th>Confirmed</th>\n",
       "    </tr>\n",
       "  </thead>\n",
       "  <tbody>\n",
       "    <tr>\n",
       "      <th>4198</th>\n",
       "      <td>2020-07-17</td>\n",
       "      <td>Maharashtra</td>\n",
       "      <td>158140</td>\n",
       "      <td>11194</td>\n",
       "      <td>284281</td>\n",
       "    </tr>\n",
       "    <tr>\n",
       "      <th>4208</th>\n",
       "      <td>2020-07-17</td>\n",
       "      <td>Tamil Nadu</td>\n",
       "      <td>107416</td>\n",
       "      <td>2236</td>\n",
       "      <td>156369</td>\n",
       "    </tr>\n",
       "    <tr>\n",
       "      <th>4187</th>\n",
       "      <td>2020-07-17</td>\n",
       "      <td>Delhi</td>\n",
       "      <td>97693</td>\n",
       "      <td>3545</td>\n",
       "      <td>118645</td>\n",
       "    </tr>\n",
       "    <tr>\n",
       "      <th>4194</th>\n",
       "      <td>2020-07-17</td>\n",
       "      <td>Karnataka</td>\n",
       "      <td>19729</td>\n",
       "      <td>1032</td>\n",
       "      <td>51422</td>\n",
       "    </tr>\n",
       "    <tr>\n",
       "      <th>4189</th>\n",
       "      <td>2020-07-17</td>\n",
       "      <td>Gujarat</td>\n",
       "      <td>32103</td>\n",
       "      <td>2089</td>\n",
       "      <td>45481</td>\n",
       "    </tr>\n",
       "  </tbody>\n",
       "</table>\n",
       "</div>"
      ],
      "text/plain": [
       "           Date        State   Cured  Deaths  Confirmed\n",
       "4198 2020-07-17  Maharashtra  158140   11194     284281\n",
       "4208 2020-07-17   Tamil Nadu  107416    2236     156369\n",
       "4187 2020-07-17        Delhi   97693    3545     118645\n",
       "4194 2020-07-17    Karnataka   19729    1032      51422\n",
       "4189 2020-07-17      Gujarat   32103    2089      45481"
      ]
     },
     "execution_count": 19,
     "metadata": {},
     "output_type": "execute_result"
    }
   ],
   "source": [
    "top_states_confirmed"
   ]
  },
  {
   "cell_type": "markdown",
   "id": "2a082565",
   "metadata": {},
   "source": [
    "**Creating a barplot for df dataframe with state and Confirmed column**"
   ]
  },
  {
   "cell_type": "code",
   "execution_count": 20,
   "id": "1c73be83",
   "metadata": {},
   "outputs": [
    {
     "data": {
      "image/png": "[encoded data removed]",
      "text/plain": [
       "<Figure size 1000x1000 with 1 Axes>"
      ]
     },
     "metadata": {},
     "output_type": "display_data"
    }
   ],
   "source": [
    "plt.figure(figsize=(10, 10))\n",
    "sns.barplot(x = \"State\",y=\"Confirmed\",data=top_states_confirmed)\n",
    "plt.show()"
   ]
  },
  {
   "cell_type": "markdown",
   "id": "a0654e1e",
   "metadata": {},
   "source": [
    "Based on the bar plot above, we can conclude that Maharashtra has the highest number of confirmed covid cases."
   ]
  },
  {
   "cell_type": "markdown",
   "id": "9353a397",
   "metadata": {},
   "source": [
    "**Extracting maximum number of Death cases from today dataframe.**"
   ]
  },
  {
   "cell_type": "code",
   "execution_count": 21,
   "id": "3e150979",
   "metadata": {},
   "outputs": [],
   "source": [
    "max_death_cases = today.sort_values(by=['Deaths'],ascending=False)"
   ]
  },
  {
   "cell_type": "code",
   "execution_count": 22,
   "id": "32ecea74",
   "metadata": {
    "scrolled": true
   },
   "outputs": [
    {
     "data": {
      "text/html": [
       "<div>\n",
       "<style scoped>\n",
       "    .dataframe tbody tr th:only-of-type {\n",
       "        vertical-align: middle;\n",
       "    }\n",
       "\n",
       "    .dataframe tbody tr th {\n",
       "        vertical-align: top;\n",
       "    }\n",
       "\n",
       "    .dataframe thead th {\n",
       "        text-align: right;\n",
       "    }\n",
       "</style>\n",
       "<table border=\"1\" class=\"dataframe\">\n",
       "  <thead>\n",
       "    <tr style=\"text-align: right;\">\n",
       "      <th></th>\n",
       "      <th>Date</th>\n",
       "      <th>State</th>\n",
       "      <th>Cured</th>\n",
       "      <th>Deaths</th>\n",
       "      <th>Confirmed</th>\n",
       "    </tr>\n",
       "  </thead>\n",
       "  <tbody>\n",
       "    <tr>\n",
       "      <th>4198</th>\n",
       "      <td>2020-07-17</td>\n",
       "      <td>Maharashtra</td>\n",
       "      <td>158140</td>\n",
       "      <td>11194</td>\n",
       "      <td>284281</td>\n",
       "    </tr>\n",
       "    <tr>\n",
       "      <th>4187</th>\n",
       "      <td>2020-07-17</td>\n",
       "      <td>Delhi</td>\n",
       "      <td>97693</td>\n",
       "      <td>3545</td>\n",
       "      <td>118645</td>\n",
       "    </tr>\n",
       "    <tr>\n",
       "      <th>4208</th>\n",
       "      <td>2020-07-17</td>\n",
       "      <td>Tamil Nadu</td>\n",
       "      <td>107416</td>\n",
       "      <td>2236</td>\n",
       "      <td>156369</td>\n",
       "    </tr>\n",
       "    <tr>\n",
       "      <th>4189</th>\n",
       "      <td>2020-07-17</td>\n",
       "      <td>Gujarat</td>\n",
       "      <td>32103</td>\n",
       "      <td>2089</td>\n",
       "      <td>45481</td>\n",
       "    </tr>\n",
       "    <tr>\n",
       "      <th>4212</th>\n",
       "      <td>2020-07-17</td>\n",
       "      <td>Uttar Pradesh</td>\n",
       "      <td>26675</td>\n",
       "      <td>1046</td>\n",
       "      <td>43441</td>\n",
       "    </tr>\n",
       "  </tbody>\n",
       "</table>\n",
       "</div>"
      ],
      "text/plain": [
       "           Date          State   Cured  Deaths  Confirmed\n",
       "4198 2020-07-17    Maharashtra  158140   11194     284281\n",
       "4187 2020-07-17          Delhi   97693    3545     118645\n",
       "4208 2020-07-17     Tamil Nadu  107416    2236     156369\n",
       "4189 2020-07-17        Gujarat   32103    2089      45481\n",
       "4212 2020-07-17  Uttar Pradesh   26675    1046      43441"
      ]
     },
     "execution_count": 22,
     "metadata": {},
     "output_type": "execute_result"
    }
   ],
   "source": [
    "max_death_cases.head()"
   ]
  },
  {
   "cell_type": "markdown",
   "id": "cfbe8810",
   "metadata": {},
   "source": [
    "**Extracting top 5 rows from max_death_cases dataframe.**"
   ]
  },
  {
   "cell_type": "code",
   "execution_count": 23,
   "id": "86e46deb",
   "metadata": {},
   "outputs": [],
   "source": [
    "top_states_deaths = max_death_cases[0:5]"
   ]
  },
  {
   "cell_type": "markdown",
   "id": "89d75af5",
   "metadata": {},
   "source": [
    "**Creating a barplot for df dataframe with state and Deaths column**"
   ]
  },
  {
   "cell_type": "code",
   "execution_count": 24,
   "id": "b78f4ee3",
   "metadata": {},
   "outputs": [
    {
     "data": {
      "image/png": "[encoded data removed]",
      "text/plain": [
       "<Figure size 1000x1000 with 1 Axes>"
      ]
     },
     "metadata": {},
     "output_type": "display_data"
    }
   ],
   "source": [
    "plt.figure(figsize=(10, 10))\n",
    "sns.barplot(x = \"State\",y=\"Deaths\",data=top_states_deaths)\n",
    "plt.show()"
   ]
  },
  {
   "cell_type": "markdown",
   "id": "61e5ab35",
   "metadata": {},
   "source": [
    "Based on the bar plot above, we can conclude that Maharashtra has the highest number of deaths covid cases."
   ]
  },
  {
   "cell_type": "markdown",
   "id": "d4da5171",
   "metadata": {},
   "source": [
    "**Extracting maximum number of cured cases from today dataframe.**"
   ]
  },
  {
   "cell_type": "code",
   "execution_count": 25,
   "id": "afb99aa8",
   "metadata": {},
   "outputs": [],
   "source": [
    "max_cured_cases = today.sort_values(by=['Cured'],ascending=False)"
   ]
  },
  {
   "cell_type": "code",
   "execution_count": 26,
   "id": "f36c9c97",
   "metadata": {},
   "outputs": [
    {
     "data": {
      "text/html": [
       "<div>\n",
       "<style scoped>\n",
       "    .dataframe tbody tr th:only-of-type {\n",
       "        vertical-align: middle;\n",
       "    }\n",
       "\n",
       "    .dataframe tbody tr th {\n",
       "        vertical-align: top;\n",
       "    }\n",
       "\n",
       "    .dataframe thead th {\n",
       "        text-align: right;\n",
       "    }\n",
       "</style>\n",
       "<table border=\"1\" class=\"dataframe\">\n",
       "  <thead>\n",
       "    <tr style=\"text-align: right;\">\n",
       "      <th></th>\n",
       "      <th>Date</th>\n",
       "      <th>State</th>\n",
       "      <th>Cured</th>\n",
       "      <th>Deaths</th>\n",
       "      <th>Confirmed</th>\n",
       "    </tr>\n",
       "  </thead>\n",
       "  <tbody>\n",
       "    <tr>\n",
       "      <th>4198</th>\n",
       "      <td>2020-07-17</td>\n",
       "      <td>Maharashtra</td>\n",
       "      <td>158140</td>\n",
       "      <td>11194</td>\n",
       "      <td>284281</td>\n",
       "    </tr>\n",
       "    <tr>\n",
       "      <th>4208</th>\n",
       "      <td>2020-07-17</td>\n",
       "      <td>Tamil Nadu</td>\n",
       "      <td>107416</td>\n",
       "      <td>2236</td>\n",
       "      <td>156369</td>\n",
       "    </tr>\n",
       "    <tr>\n",
       "      <th>4187</th>\n",
       "      <td>2020-07-17</td>\n",
       "      <td>Delhi</td>\n",
       "      <td>97693</td>\n",
       "      <td>3545</td>\n",
       "      <td>118645</td>\n",
       "    </tr>\n",
       "    <tr>\n",
       "      <th>4189</th>\n",
       "      <td>2020-07-17</td>\n",
       "      <td>Gujarat</td>\n",
       "      <td>32103</td>\n",
       "      <td>2089</td>\n",
       "      <td>45481</td>\n",
       "    </tr>\n",
       "    <tr>\n",
       "      <th>4209</th>\n",
       "      <td>2020-07-17</td>\n",
       "      <td>Telengana</td>\n",
       "      <td>27295</td>\n",
       "      <td>396</td>\n",
       "      <td>41018</td>\n",
       "    </tr>\n",
       "  </tbody>\n",
       "</table>\n",
       "</div>"
      ],
      "text/plain": [
       "           Date        State   Cured  Deaths  Confirmed\n",
       "4198 2020-07-17  Maharashtra  158140   11194     284281\n",
       "4208 2020-07-17   Tamil Nadu  107416    2236     156369\n",
       "4187 2020-07-17        Delhi   97693    3545     118645\n",
       "4189 2020-07-17      Gujarat   32103    2089      45481\n",
       "4209 2020-07-17    Telengana   27295     396      41018"
      ]
     },
     "execution_count": 26,
     "metadata": {},
     "output_type": "execute_result"
    }
   ],
   "source": [
    "max_cured_cases.head()"
   ]
  },
  {
   "cell_type": "markdown",
   "id": "a202a818",
   "metadata": {},
   "source": [
    "**Extracting top 5 rows from max_cured_cases dataframe.**"
   ]
  },
  {
   "cell_type": "code",
   "execution_count": 27,
   "id": "1baa3f7f",
   "metadata": {},
   "outputs": [],
   "source": [
    "top_states_cured = max_cured_cases[0:5]"
   ]
  },
  {
   "cell_type": "markdown",
   "id": "3eeacab8",
   "metadata": {},
   "source": [
    "**Creating a barplot for df dataframe with state and cured column**"
   ]
  },
  {
   "cell_type": "code",
   "execution_count": 28,
   "id": "46a42c15",
   "metadata": {},
   "outputs": [
    {
     "data": {
      "image/png": "[encoded data removed]",
      "text/plain": [
       "<Figure size 1000x1000 with 1 Axes>"
      ]
     },
     "metadata": {},
     "output_type": "display_data"
    }
   ],
   "source": [
    "plt.figure(figsize=(10, 10))\n",
    "sns.barplot(x = \"State\",y=\"Cured\",data=top_states_cured)\n",
    "plt.show()"
   ]
  },
  {
   "cell_type": "markdown",
   "id": "70aea07a",
   "metadata": {},
   "source": [
    "Based on the bar plot above, we can conclude that Maharashtra has the highest number of cured covid cases."
   ]
  },
  {
   "cell_type": "code",
   "execution_count": null,
   "id": "c2f28f7e",
   "metadata": {},
   "outputs": [],
   "source": []
  },
  {
   "cell_type": "markdown",
   "id": "edee0478",
   "metadata": {},
   "source": [
    "**Extracting Maharashtra State cases from  dataframe(df).**"
   ]
  },
  {
   "cell_type": "code",
   "execution_count": 29,
   "id": "1fa40bc9",
   "metadata": {},
   "outputs": [],
   "source": [
    "maha = df[df.State == 'Maharashtra']"
   ]
  },
  {
   "cell_type": "code",
   "execution_count": 30,
   "id": "d256fc3a",
   "metadata": {},
   "outputs": [
    {
     "data": {
      "text/html": [
       "<div>\n",
       "<style scoped>\n",
       "    .dataframe tbody tr th:only-of-type {\n",
       "        vertical-align: middle;\n",
       "    }\n",
       "\n",
       "    .dataframe tbody tr th {\n",
       "        vertical-align: top;\n",
       "    }\n",
       "\n",
       "    .dataframe thead th {\n",
       "        text-align: right;\n",
       "    }\n",
       "</style>\n",
       "<table border=\"1\" class=\"dataframe\">\n",
       "  <thead>\n",
       "    <tr style=\"text-align: right;\">\n",
       "      <th></th>\n",
       "      <th>Date</th>\n",
       "      <th>State</th>\n",
       "      <th>Cured</th>\n",
       "      <th>Deaths</th>\n",
       "      <th>Confirmed</th>\n",
       "    </tr>\n",
       "  </thead>\n",
       "  <tbody>\n",
       "    <tr>\n",
       "      <th>76</th>\n",
       "      <td>2020-03-09</td>\n",
       "      <td>Maharashtra</td>\n",
       "      <td>0</td>\n",
       "      <td>0</td>\n",
       "      <td>2</td>\n",
       "    </tr>\n",
       "    <tr>\n",
       "      <th>91</th>\n",
       "      <td>2020-03-10</td>\n",
       "      <td>Maharashtra</td>\n",
       "      <td>0</td>\n",
       "      <td>0</td>\n",
       "      <td>5</td>\n",
       "    </tr>\n",
       "    <tr>\n",
       "      <th>97</th>\n",
       "      <td>2020-03-11</td>\n",
       "      <td>Maharashtra</td>\n",
       "      <td>0</td>\n",
       "      <td>0</td>\n",
       "      <td>2</td>\n",
       "    </tr>\n",
       "    <tr>\n",
       "      <th>120</th>\n",
       "      <td>2020-03-12</td>\n",
       "      <td>Maharashtra</td>\n",
       "      <td>0</td>\n",
       "      <td>0</td>\n",
       "      <td>11</td>\n",
       "    </tr>\n",
       "    <tr>\n",
       "      <th>133</th>\n",
       "      <td>2020-03-13</td>\n",
       "      <td>Maharashtra</td>\n",
       "      <td>0</td>\n",
       "      <td>0</td>\n",
       "      <td>14</td>\n",
       "    </tr>\n",
       "  </tbody>\n",
       "</table>\n",
       "</div>"
      ],
      "text/plain": [
       "          Date        State  Cured  Deaths  Confirmed\n",
       "76  2020-03-09  Maharashtra      0       0          2\n",
       "91  2020-03-10  Maharashtra      0       0          5\n",
       "97  2020-03-11  Maharashtra      0       0          2\n",
       "120 2020-03-12  Maharashtra      0       0         11\n",
       "133 2020-03-13  Maharashtra      0       0         14"
      ]
     },
     "execution_count": 30,
     "metadata": {},
     "output_type": "execute_result"
    }
   ],
   "source": [
    "maha.head()"
   ]
  },
  {
   "cell_type": "code",
   "execution_count": 31,
   "id": "8275a2a0",
   "metadata": {},
   "outputs": [
    {
     "data": {
      "text/html": [
       "<div>\n",
       "<style scoped>\n",
       "    .dataframe tbody tr th:only-of-type {\n",
       "        vertical-align: middle;\n",
       "    }\n",
       "\n",
       "    .dataframe tbody tr th {\n",
       "        vertical-align: top;\n",
       "    }\n",
       "\n",
       "    .dataframe thead th {\n",
       "        text-align: right;\n",
       "    }\n",
       "</style>\n",
       "<table border=\"1\" class=\"dataframe\">\n",
       "  <thead>\n",
       "    <tr style=\"text-align: right;\">\n",
       "      <th></th>\n",
       "      <th>Date</th>\n",
       "      <th>State</th>\n",
       "      <th>Cured</th>\n",
       "      <th>Deaths</th>\n",
       "      <th>Confirmed</th>\n",
       "    </tr>\n",
       "  </thead>\n",
       "  <tbody>\n",
       "    <tr>\n",
       "      <th>17950</th>\n",
       "      <td>2021-08-07</td>\n",
       "      <td>Maharashtra</td>\n",
       "      <td>6130137</td>\n",
       "      <td>133717</td>\n",
       "      <td>6341759</td>\n",
       "    </tr>\n",
       "    <tr>\n",
       "      <th>17986</th>\n",
       "      <td>2021-08-08</td>\n",
       "      <td>Maharashtra</td>\n",
       "      <td>6139493</td>\n",
       "      <td>133845</td>\n",
       "      <td>6347820</td>\n",
       "    </tr>\n",
       "    <tr>\n",
       "      <th>18022</th>\n",
       "      <td>2021-08-09</td>\n",
       "      <td>Maharashtra</td>\n",
       "      <td>6144388</td>\n",
       "      <td>133996</td>\n",
       "      <td>6353328</td>\n",
       "    </tr>\n",
       "    <tr>\n",
       "      <th>18058</th>\n",
       "      <td>2021-08-10</td>\n",
       "      <td>Maharashtra</td>\n",
       "      <td>6151956</td>\n",
       "      <td>134064</td>\n",
       "      <td>6357833</td>\n",
       "    </tr>\n",
       "    <tr>\n",
       "      <th>18094</th>\n",
       "      <td>2021-08-11</td>\n",
       "      <td>Maharashtra</td>\n",
       "      <td>6159676</td>\n",
       "      <td>134201</td>\n",
       "      <td>6363442</td>\n",
       "    </tr>\n",
       "  </tbody>\n",
       "</table>\n",
       "</div>"
      ],
      "text/plain": [
       "            Date        State    Cured  Deaths  Confirmed\n",
       "17950 2021-08-07  Maharashtra  6130137  133717    6341759\n",
       "17986 2021-08-08  Maharashtra  6139493  133845    6347820\n",
       "18022 2021-08-09  Maharashtra  6144388  133996    6353328\n",
       "18058 2021-08-10  Maharashtra  6151956  134064    6357833\n",
       "18094 2021-08-11  Maharashtra  6159676  134201    6363442"
      ]
     },
     "execution_count": 31,
     "metadata": {},
     "output_type": "execute_result"
    }
   ],
   "source": [
    "maha.tail()"
   ]
  },
  {
   "cell_type": "markdown",
   "id": "e9b273d6",
   "metadata": {},
   "source": [
    "**Creating a lineplot for maha dataframe with date and confirmed column**"
   ]
  },
  {
   "cell_type": "code",
   "execution_count": 32,
   "id": "b9451c68",
   "metadata": {},
   "outputs": [
    {
     "data": {
      "image/png": "[encoded data removed]",
      "text/plain": [
       "<Figure size 1000x1000 with 1 Axes>"
      ]
     },
     "metadata": {},
     "output_type": "display_data"
    }
   ],
   "source": [
    "plt.figure(figsize=(10, 10))\n",
    "sns.lineplot(x = \"Date\",y=\"Confirmed\",data=maha,color=\"green\")\n",
    "plt.show()"
   ]
  },
  {
   "cell_type": "markdown",
   "id": "9ff1e8f0",
   "metadata": {},
   "source": [
    "**Creating a lineplot for maha dataframe with date and deaths column**"
   ]
  },
  {
   "cell_type": "code",
   "execution_count": 33,
   "id": "3018ffbc",
   "metadata": {},
   "outputs": [
    {
     "data": {
      "image/png": "[encoded data removed]",
      "text/plain": [
       "<Figure size 1000x1000 with 1 Axes>"
      ]
     },
     "metadata": {},
     "output_type": "display_data"
    }
   ],
   "source": [
    "plt.figure(figsize=(10, 10))\n",
    "sns.lineplot(x = \"Date\",y=\"Deaths\",data=maha,color=\"green\")\n",
    "plt.show()"
   ]
  },
  {
   "cell_type": "code",
   "execution_count": null,
   "id": "aa6c2d0a",
   "metadata": {},
   "outputs": [],
   "source": []
  },
  {
   "cell_type": "code",
   "execution_count": null,
   "id": "813170f2",
   "metadata": {},
   "outputs": [],
   "source": []
  },
  {
   "cell_type": "markdown",
   "id": "8287cb64",
   "metadata": {},
   "source": [
    "**Extracting kerala State cases from  dataframe(df).**"
   ]
  },
  {
   "cell_type": "code",
   "execution_count": 34,
   "id": "aa264a33",
   "metadata": {},
   "outputs": [],
   "source": [
    "kerala = df[df.State == 'Kerala']"
   ]
  },
  {
   "cell_type": "code",
   "execution_count": 35,
   "id": "287c94bd",
   "metadata": {},
   "outputs": [
    {
     "data": {
      "text/html": [
       "<div>\n",
       "<style scoped>\n",
       "    .dataframe tbody tr th:only-of-type {\n",
       "        vertical-align: middle;\n",
       "    }\n",
       "\n",
       "    .dataframe tbody tr th {\n",
       "        vertical-align: top;\n",
       "    }\n",
       "\n",
       "    .dataframe thead th {\n",
       "        text-align: right;\n",
       "    }\n",
       "</style>\n",
       "<table border=\"1\" class=\"dataframe\">\n",
       "  <thead>\n",
       "    <tr style=\"text-align: right;\">\n",
       "      <th></th>\n",
       "      <th>Date</th>\n",
       "      <th>State</th>\n",
       "      <th>Cured</th>\n",
       "      <th>Deaths</th>\n",
       "      <th>Confirmed</th>\n",
       "    </tr>\n",
       "  </thead>\n",
       "  <tbody>\n",
       "    <tr>\n",
       "      <th>0</th>\n",
       "      <td>2020-01-30</td>\n",
       "      <td>Kerala</td>\n",
       "      <td>0</td>\n",
       "      <td>0</td>\n",
       "      <td>1</td>\n",
       "    </tr>\n",
       "    <tr>\n",
       "      <th>1</th>\n",
       "      <td>2020-01-31</td>\n",
       "      <td>Kerala</td>\n",
       "      <td>0</td>\n",
       "      <td>0</td>\n",
       "      <td>1</td>\n",
       "    </tr>\n",
       "    <tr>\n",
       "      <th>2</th>\n",
       "      <td>2020-02-01</td>\n",
       "      <td>Kerala</td>\n",
       "      <td>0</td>\n",
       "      <td>0</td>\n",
       "      <td>2</td>\n",
       "    </tr>\n",
       "    <tr>\n",
       "      <th>3</th>\n",
       "      <td>2020-02-02</td>\n",
       "      <td>Kerala</td>\n",
       "      <td>0</td>\n",
       "      <td>0</td>\n",
       "      <td>3</td>\n",
       "    </tr>\n",
       "    <tr>\n",
       "      <th>4</th>\n",
       "      <td>2020-02-03</td>\n",
       "      <td>Kerala</td>\n",
       "      <td>0</td>\n",
       "      <td>0</td>\n",
       "      <td>3</td>\n",
       "    </tr>\n",
       "  </tbody>\n",
       "</table>\n",
       "</div>"
      ],
      "text/plain": [
       "        Date   State  Cured  Deaths  Confirmed\n",
       "0 2020-01-30  Kerala      0       0          1\n",
       "1 2020-01-31  Kerala      0       0          1\n",
       "2 2020-02-01  Kerala      0       0          2\n",
       "3 2020-02-02  Kerala      0       0          3\n",
       "4 2020-02-03  Kerala      0       0          3"
      ]
     },
     "execution_count": 35,
     "metadata": {},
     "output_type": "execute_result"
    }
   ],
   "source": [
    "kerala.head()"
   ]
  },
  {
   "cell_type": "code",
   "execution_count": 36,
   "id": "2a1c77ae",
   "metadata": {},
   "outputs": [
    {
     "data": {
      "text/html": [
       "<div>\n",
       "<style scoped>\n",
       "    .dataframe tbody tr th:only-of-type {\n",
       "        vertical-align: middle;\n",
       "    }\n",
       "\n",
       "    .dataframe tbody tr th {\n",
       "        vertical-align: top;\n",
       "    }\n",
       "\n",
       "    .dataframe thead th {\n",
       "        text-align: right;\n",
       "    }\n",
       "</style>\n",
       "<table border=\"1\" class=\"dataframe\">\n",
       "  <thead>\n",
       "    <tr style=\"text-align: right;\">\n",
       "      <th></th>\n",
       "      <th>Date</th>\n",
       "      <th>State</th>\n",
       "      <th>Cured</th>\n",
       "      <th>Deaths</th>\n",
       "      <th>Confirmed</th>\n",
       "    </tr>\n",
       "  </thead>\n",
       "  <tbody>\n",
       "    <tr>\n",
       "      <th>17946</th>\n",
       "      <td>2021-08-07</td>\n",
       "      <td>Kerala</td>\n",
       "      <td>3317314</td>\n",
       "      <td>17515</td>\n",
       "      <td>3513551</td>\n",
       "    </tr>\n",
       "    <tr>\n",
       "      <th>17982</th>\n",
       "      <td>2021-08-08</td>\n",
       "      <td>Kerala</td>\n",
       "      <td>3337579</td>\n",
       "      <td>17654</td>\n",
       "      <td>3533918</td>\n",
       "    </tr>\n",
       "    <tr>\n",
       "      <th>18018</th>\n",
       "      <td>2021-08-09</td>\n",
       "      <td>Kerala</td>\n",
       "      <td>3357687</td>\n",
       "      <td>17747</td>\n",
       "      <td>3552525</td>\n",
       "    </tr>\n",
       "    <tr>\n",
       "      <th>18054</th>\n",
       "      <td>2021-08-10</td>\n",
       "      <td>Kerala</td>\n",
       "      <td>3377691</td>\n",
       "      <td>17852</td>\n",
       "      <td>3565574</td>\n",
       "    </tr>\n",
       "    <tr>\n",
       "      <th>18090</th>\n",
       "      <td>2021-08-11</td>\n",
       "      <td>Kerala</td>\n",
       "      <td>3396184</td>\n",
       "      <td>18004</td>\n",
       "      <td>3586693</td>\n",
       "    </tr>\n",
       "  </tbody>\n",
       "</table>\n",
       "</div>"
      ],
      "text/plain": [
       "            Date   State    Cured  Deaths  Confirmed\n",
       "17946 2021-08-07  Kerala  3317314   17515    3513551\n",
       "17982 2021-08-08  Kerala  3337579   17654    3533918\n",
       "18018 2021-08-09  Kerala  3357687   17747    3552525\n",
       "18054 2021-08-10  Kerala  3377691   17852    3565574\n",
       "18090 2021-08-11  Kerala  3396184   18004    3586693"
      ]
     },
     "execution_count": 36,
     "metadata": {},
     "output_type": "execute_result"
    }
   ],
   "source": [
    "kerala.tail()"
   ]
  },
  {
   "cell_type": "code",
   "execution_count": null,
   "id": "30a98b30",
   "metadata": {},
   "outputs": [],
   "source": []
  },
  {
   "cell_type": "markdown",
   "id": "a5814016",
   "metadata": {},
   "source": [
    "**Creating a lineplot for kerala dataframe with date and confirmed column**"
   ]
  },
  {
   "cell_type": "code",
   "execution_count": 37,
   "id": "2c32c5c0",
   "metadata": {},
   "outputs": [
    {
     "data": {
      "image/png": "[encoded data removed]",
      "text/plain": [
       "<Figure size 1000x1000 with 1 Axes>"
      ]
     },
     "metadata": {},
     "output_type": "display_data"
    }
   ],
   "source": [
    "plt.figure(figsize=(10, 10))\n",
    "sns.lineplot(x = \"Date\",y=\"Confirmed\",data=kerala,color=\"green\")\n",
    "plt.show()"
   ]
  },
  {
   "cell_type": "code",
   "execution_count": null,
   "id": "29ff1582",
   "metadata": {},
   "outputs": [],
   "source": []
  },
  {
   "cell_type": "markdown",
   "id": "bbf58250",
   "metadata": {},
   "source": [
    "**Creating a lineplot for kerala dataframe with date and deaths column**"
   ]
  },
  {
   "cell_type": "code",
   "execution_count": 38,
   "id": "362f8a21",
   "metadata": {},
   "outputs": [
    {
     "data": {
      "image/png": "[encoded data removed]",
      "text/plain": [
       "<Figure size 1000x1000 with 1 Axes>"
      ]
     },
     "metadata": {},
     "output_type": "display_data"
    }
   ],
   "source": [
    "plt.figure(figsize=(10, 10))\n",
    "sns.lineplot(x = \"Date\",y=\"Deaths\",data=kerala,color=\"green\")\n",
    "plt.show()"
   ]
  },
  {
   "cell_type": "markdown",
   "id": "1b1b17d0",
   "metadata": {},
   "source": [
    "**Bulding Model**"
   ]
  },
  {
   "cell_type": "code",
   "execution_count": 39,
   "id": "a866611e",
   "metadata": {},
   "outputs": [],
   "source": [
    "from sklearn.model_selection import train_test_split"
   ]
  },
  {
   "cell_type": "markdown",
   "id": "166a0f24",
   "metadata": {},
   "source": [
    "**convert data column into ordinal value**"
   ]
  },
  {
   "cell_type": "code",
   "execution_count": 40,
   "id": "c3a2bc5b",
   "metadata": {},
   "outputs": [],
   "source": [
    "maha['Date'] = maha['Date'].map(dt.datetime.toordinal)"
   ]
  },
  {
   "cell_type": "code",
   "execution_count": 41,
   "id": "3c746b7a",
   "metadata": {},
   "outputs": [
    {
     "data": {
      "text/html": [
       "<div>\n",
       "<style scoped>\n",
       "    .dataframe tbody tr th:only-of-type {\n",
       "        vertical-align: middle;\n",
       "    }\n",
       "\n",
       "    .dataframe tbody tr th {\n",
       "        vertical-align: top;\n",
       "    }\n",
       "\n",
       "    .dataframe thead th {\n",
       "        text-align: right;\n",
       "    }\n",
       "</style>\n",
       "<table border=\"1\" class=\"dataframe\">\n",
       "  <thead>\n",
       "    <tr style=\"text-align: right;\">\n",
       "      <th></th>\n",
       "      <th>Date</th>\n",
       "      <th>State</th>\n",
       "      <th>Cured</th>\n",
       "      <th>Deaths</th>\n",
       "      <th>Confirmed</th>\n",
       "    </tr>\n",
       "  </thead>\n",
       "  <tbody>\n",
       "    <tr>\n",
       "      <th>76</th>\n",
       "      <td>737493</td>\n",
       "      <td>Maharashtra</td>\n",
       "      <td>0</td>\n",
       "      <td>0</td>\n",
       "      <td>2</td>\n",
       "    </tr>\n",
       "    <tr>\n",
       "      <th>91</th>\n",
       "      <td>737494</td>\n",
       "      <td>Maharashtra</td>\n",
       "      <td>0</td>\n",
       "      <td>0</td>\n",
       "      <td>5</td>\n",
       "    </tr>\n",
       "    <tr>\n",
       "      <th>97</th>\n",
       "      <td>737495</td>\n",
       "      <td>Maharashtra</td>\n",
       "      <td>0</td>\n",
       "      <td>0</td>\n",
       "      <td>2</td>\n",
       "    </tr>\n",
       "    <tr>\n",
       "      <th>120</th>\n",
       "      <td>737496</td>\n",
       "      <td>Maharashtra</td>\n",
       "      <td>0</td>\n",
       "      <td>0</td>\n",
       "      <td>11</td>\n",
       "    </tr>\n",
       "    <tr>\n",
       "      <th>133</th>\n",
       "      <td>737497</td>\n",
       "      <td>Maharashtra</td>\n",
       "      <td>0</td>\n",
       "      <td>0</td>\n",
       "      <td>14</td>\n",
       "    </tr>\n",
       "  </tbody>\n",
       "</table>\n",
       "</div>"
      ],
      "text/plain": [
       "       Date        State  Cured  Deaths  Confirmed\n",
       "76   737493  Maharashtra      0       0          2\n",
       "91   737494  Maharashtra      0       0          5\n",
       "97   737495  Maharashtra      0       0          2\n",
       "120  737496  Maharashtra      0       0         11\n",
       "133  737497  Maharashtra      0       0         14"
      ]
     },
     "execution_count": 41,
     "metadata": {},
     "output_type": "execute_result"
    }
   ],
   "source": [
    "maha.head()"
   ]
  },
  {
   "cell_type": "code",
   "execution_count": 42,
   "id": "59d815de",
   "metadata": {},
   "outputs": [],
   "source": [
    "x = maha['Date'] #independent variable\n",
    "y = maha['Confirmed'] #dependent variable\n"
   ]
  },
  {
   "cell_type": "code",
   "execution_count": 43,
   "id": "5a11382a",
   "metadata": {},
   "outputs": [],
   "source": [
    "x_train,x_test,y_train,y_test = train_test_split(x,y,test_size = 0.3)"
   ]
  },
  {
   "cell_type": "markdown",
   "id": "a1733f15",
   "metadata": {},
   "source": [
    "**importing RandomForestRegressor from sklearn library.**"
   ]
  },
  {
   "cell_type": "code",
   "execution_count": 44,
   "id": "d06de478",
   "metadata": {},
   "outputs": [],
   "source": [
    "from sklearn.ensemble import RandomForestRegressor"
   ]
  },
  {
   "cell_type": "markdown",
   "id": "7fb1c453",
   "metadata": {},
   "source": [
    "**Creating instance of RandomForestRegressor as rf.**"
   ]
  },
  {
   "cell_type": "code",
   "execution_count": 45,
   "id": "518c0aa0",
   "metadata": {},
   "outputs": [],
   "source": [
    "rf = RandomForestRegressor()"
   ]
  },
  {
   "cell_type": "code",
   "execution_count": 46,
   "id": "47a3ddaf",
   "metadata": {},
   "outputs": [
    {
     "data": {
      "text/plain": [
       "15286    5602019\n",
       "5145      548313\n",
       "15178    5527092\n",
       "15646    5791413\n",
       "9346     1868172\n",
       "          ...   \n",
       "11002    2010948\n",
       "10426    1965556\n",
       "1624       14541\n",
       "9634     1888767\n",
       "13342    2812980\n",
       "Name: Confirmed, Length: 364, dtype: int64"
      ]
     },
     "execution_count": 46,
     "metadata": {},
     "output_type": "execute_result"
    }
   ],
   "source": [
    "y_train #No of confirmed cases"
   ]
  },
  {
   "cell_type": "markdown",
   "id": "dcebcca2",
   "metadata": {},
   "source": [
    "**Fitting RandomForestRegressor() Model**"
   ]
  },
  {
   "cell_type": "code",
   "execution_count": 47,
   "id": "58e84ac9",
   "metadata": {},
   "outputs": [
    {
     "data": {
      "text/html": [
       "<style>#sk-container-id-1 {color: black;background-color: white;}#sk-container-id-1 pre{padding: 0;}#sk-container-id-1 div.sk-toggleable {background-color: white;}#sk-container-id-1 label.sk-toggleable__label {cursor: pointer;display: block;width: 100%;margin-bottom: 0;padding: 0.3em;box-sizing: border-box;text-align: center;}#sk-container-id-1 label.sk-toggleable__label-arrow:before {content: \"▸\";float: left;margin-right: 0.25em;color: #696969;}#sk-container-id-1 label.sk-toggleable__label-arrow:hover:before {color: black;}#sk-container-id-1 div.sk-estimator:hover label.sk-toggleable__label-arrow:before {color: black;}#sk-container-id-1 div.sk-toggleable__content {max-height: 0;max-width: 0;overflow: hidden;text-align: left;background-color: #f0f8ff;}#sk-container-id-1 div.sk-toggleable__content pre {margin: 0.2em;color: black;border-radius: 0.25em;background-color: #f0f8ff;}#sk-container-id-1 input.sk-toggleable__control:checked~div.sk-toggleable__content {max-height: 200px;max-width: 100%;overflow: auto;}#sk-container-id-1 input.sk-toggleable__control:checked~label.sk-toggleable__label-arrow:before {content: \"▾\";}#sk-container-id-1 div.sk-estimator input.sk-toggleable__control:checked~label.sk-toggleable__label {background-color: #d4ebff;}#sk-container-id-1 div.sk-label input.sk-toggleable__control:checked~label.sk-toggleable__label {background-color: #d4ebff;}#sk-container-id-1 input.sk-hidden--visually {border: 0;clip: rect(1px 1px 1px 1px);clip: rect(1px, 1px, 1px, 1px);height: 1px;margin: -1px;overflow: hidden;padding: 0;position: absolute;width: 1px;}#sk-container-id-1 div.sk-estimator {font-family: monospace;background-color: #f0f8ff;border: 1px dotted black;border-radius: 0.25em;box-sizing: border-box;margin-bottom: 0.5em;}#sk-container-id-1 div.sk-estimator:hover {background-color: #d4ebff;}#sk-container-id-1 div.sk-parallel-item::after {content: \"\";width: 100%;border-bottom: 1px solid gray;flex-grow: 1;}#sk-container-id-1 div.sk-label:hover label.sk-toggleable__label {background-color: #d4ebff;}#sk-container-id-1 div.sk-serial::before {content: \"\";position: absolute;border-left: 1px solid gray;box-sizing: border-box;top: 0;bottom: 0;left: 50%;z-index: 0;}#sk-container-id-1 div.sk-serial {display: flex;flex-direction: column;align-items: center;background-color: white;padding-right: 0.2em;padding-left: 0.2em;position: relative;}#sk-container-id-1 div.sk-item {position: relative;z-index: 1;}#sk-container-id-1 div.sk-parallel {display: flex;align-items: stretch;justify-content: center;background-color: white;position: relative;}#sk-container-id-1 div.sk-item::before, #sk-container-id-1 div.sk-parallel-item::before {content: \"\";position: absolute;border-left: 1px solid gray;box-sizing: border-box;top: 0;bottom: 0;left: 50%;z-index: -1;}#sk-container-id-1 div.sk-parallel-item {display: flex;flex-direction: column;z-index: 1;position: relative;background-color: white;}#sk-container-id-1 div.sk-parallel-item:first-child::after {align-self: flex-end;width: 50%;}#sk-container-id-1 div.sk-parallel-item:last-child::after {align-self: flex-start;width: 50%;}#sk-container-id-1 div.sk-parallel-item:only-child::after {width: 0;}#sk-container-id-1 div.sk-dashed-wrapped {border: 1px dashed gray;margin: 0 0.4em 0.5em 0.4em;box-sizing: border-box;padding-bottom: 0.4em;background-color: white;}#sk-container-id-1 div.sk-label label {font-family: monospace;font-weight: bold;display: inline-block;line-height: 1.2em;}#sk-container-id-1 div.sk-label-container {text-align: center;}#sk-container-id-1 div.sk-container {/* jupyter's `normalize.less` sets `[hidden] { display: none; }` but bootstrap.min.css set `[hidden] { display: none !important; }` so we also need the `!important` here to be able to override the default hidden behavior on the sphinx rendered scikit-learn.org. See: https://github.com/scikit-learn/scikit-learn/issues/21755 */display: inline-block !important;position: relative;}#sk-container-id-1 div.sk-text-repr-fallback {display: none;}</style><div id=\"sk-container-id-1\" class=\"sk-top-container\"><div class=\"sk-text-repr-fallback\"><pre>RandomForestRegressor()</pre><b>In a Jupyter environment, please rerun this cell to show the HTML representation or trust the notebook. <br />On GitHub, the HTML representation is unable to render, please try loading this page with nbviewer.org.</b></div><div class=\"sk-container\" hidden><div class=\"sk-item\"><div class=\"sk-estimator sk-toggleable\"><input class=\"sk-toggleable__control sk-hidden--visually\" id=\"sk-estimator-id-1\" type=\"checkbox\" checked><label for=\"sk-estimator-id-1\" class=\"sk-toggleable__label sk-toggleable__label-arrow\">RandomForestRegressor</label><div class=\"sk-toggleable__content\"><pre>RandomForestRegressor()</pre></div></div></div></div></div>"
      ],
      "text/plain": [
       "RandomForestRegressor()"
      ]
     },
     "execution_count": 47,
     "metadata": {},
     "output_type": "execute_result"
    }
   ],
   "source": [
    "rf.fit(np.array(x_train).reshape(-1,1),np.array(y_train).reshape(-1,1))#Remove the indices"
   ]
  },
  {
   "cell_type": "code",
   "execution_count": 48,
   "id": "74c3bd01",
   "metadata": {},
   "outputs": [
    {
     "data": {
      "text/html": [
       "<div>\n",
       "<style scoped>\n",
       "    .dataframe tbody tr th:only-of-type {\n",
       "        vertical-align: middle;\n",
       "    }\n",
       "\n",
       "    .dataframe tbody tr th {\n",
       "        vertical-align: top;\n",
       "    }\n",
       "\n",
       "    .dataframe thead th {\n",
       "        text-align: right;\n",
       "    }\n",
       "</style>\n",
       "<table border=\"1\" class=\"dataframe\">\n",
       "  <thead>\n",
       "    <tr style=\"text-align: right;\">\n",
       "      <th></th>\n",
       "      <th>Date</th>\n",
       "      <th>State</th>\n",
       "      <th>Cured</th>\n",
       "      <th>Deaths</th>\n",
       "      <th>Confirmed</th>\n",
       "    </tr>\n",
       "  </thead>\n",
       "  <tbody>\n",
       "    <tr>\n",
       "      <th>17950</th>\n",
       "      <td>738009</td>\n",
       "      <td>Maharashtra</td>\n",
       "      <td>6130137</td>\n",
       "      <td>133717</td>\n",
       "      <td>6341759</td>\n",
       "    </tr>\n",
       "    <tr>\n",
       "      <th>17986</th>\n",
       "      <td>738010</td>\n",
       "      <td>Maharashtra</td>\n",
       "      <td>6139493</td>\n",
       "      <td>133845</td>\n",
       "      <td>6347820</td>\n",
       "    </tr>\n",
       "    <tr>\n",
       "      <th>18022</th>\n",
       "      <td>738011</td>\n",
       "      <td>Maharashtra</td>\n",
       "      <td>6144388</td>\n",
       "      <td>133996</td>\n",
       "      <td>6353328</td>\n",
       "    </tr>\n",
       "    <tr>\n",
       "      <th>18058</th>\n",
       "      <td>738012</td>\n",
       "      <td>Maharashtra</td>\n",
       "      <td>6151956</td>\n",
       "      <td>134064</td>\n",
       "      <td>6357833</td>\n",
       "    </tr>\n",
       "    <tr>\n",
       "      <th>18094</th>\n",
       "      <td>738013</td>\n",
       "      <td>Maharashtra</td>\n",
       "      <td>6159676</td>\n",
       "      <td>134201</td>\n",
       "      <td>6363442</td>\n",
       "    </tr>\n",
       "  </tbody>\n",
       "</table>\n",
       "</div>"
      ],
      "text/plain": [
       "         Date        State    Cured  Deaths  Confirmed\n",
       "17950  738009  Maharashtra  6130137  133717    6341759\n",
       "17986  738010  Maharashtra  6139493  133845    6347820\n",
       "18022  738011  Maharashtra  6144388  133996    6353328\n",
       "18058  738012  Maharashtra  6151956  134064    6357833\n",
       "18094  738013  Maharashtra  6159676  134201    6363442"
      ]
     },
     "execution_count": 48,
     "metadata": {},
     "output_type": "execute_result"
    }
   ],
   "source": [
    "maha.tail()"
   ]
  },
  {
   "cell_type": "markdown",
   "id": "905d96af",
   "metadata": {},
   "source": [
    "**Predicting Dependant Values Confirmed.**"
   ]
  },
  {
   "cell_type": "code",
   "execution_count": 49,
   "id": "8bc244fb",
   "metadata": {},
   "outputs": [
    {
     "data": {
      "text/plain": [
       "array([6352928.27])"
      ]
     },
     "execution_count": 49,
     "metadata": {},
     "output_type": "execute_result"
    }
   ],
   "source": [
    "rf.predict(np.array([[738011]])) #Passing independent variable date and predict confirmed column value"
   ]
  },
  {
   "cell_type": "markdown",
   "id": "0c8ab175",
   "metadata": {},
   "source": [
    "**Checking accuracy of our model.**"
   ]
  },
  {
   "cell_type": "code",
   "execution_count": 50,
   "id": "fe22925e",
   "metadata": {},
   "outputs": [
    {
     "name": "stdout",
     "output_type": "stream",
     "text": [
      "Our Model Is 99.995 % accurate.\n"
     ]
    }
   ],
   "source": [
    "accuracy = rf.score(np.array(x_test).reshape(-1, 1), np.array(y_test).reshape(-1, 1))\n",
    "rounded_accuracy = round(accuracy, 5)\n",
    "\n",
    "print(\"Our Model Is\", rounded_accuracy*100 ,\"% accurate.\")"
   ]
  },
  {
   "cell_type": "code",
   "execution_count": null,
   "id": "e23b6815",
   "metadata": {},
   "outputs": [],
   "source": []
  },
  {
   "cell_type": "markdown",
   "id": "20401064",
   "metadata": {},
   "source": [
    "**Conclusion**"
   ]
  },
  {
   "cell_type": "markdown",
   "id": "73355a7c",
   "metadata": {},
   "source": [
    "The **RandomForestRegressor** model applied to the COVID-19 dataset exhibits strong predictive performance."
   ]
  },
  {
   "cell_type": "code",
   "execution_count": null,
   "id": "15bbb91a",
   "metadata": {},
   "outputs": [],
   "source": []
  }
 ],
 "metadata": {
  "kernelspec": {
   "display_name": "Python 3 (ipykernel)",
   "language": "python",
   "name": "python3"
  },
  "language_info": {
   "codemirror_mode": {
    "name": "ipython",
    "version": 3
   },
   "file_extension": ".py",
   "mimetype": "text/x-python",
   "name": "python",
   "nbconvert_exporter": "python",
   "pygments_lexer": "ipython3",
   "version": "3.10.9"
  }
 },
 "nbformat": 4,
 "nbformat_minor": 5
}
